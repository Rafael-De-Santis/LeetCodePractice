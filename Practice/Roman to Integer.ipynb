{
 "cells": [
  {
   "cell_type": "markdown",
   "metadata": {},
   "source": [
    "## Leet Code 13. Roman to Integer\n",
    "\n",
    "Roman numerals are represented by seven different symbols: I, V, X, L, C, D and M.\n",
    "\n",
    "Symbol       Value\n",
    "I             1\n",
    "V             5\n",
    "X             10\n",
    "L             50\n",
    "C             100\n",
    "D             500\n",
    "M             1000\n",
    "For example, 2 is written as II in Roman numeral, just two ones added together. 12 is written as XII, which is simply X + II. The number 27 is written as XXVII, which is XX + V + II.\n",
    "\n",
    "Roman numerals are usually written largest to smallest from left to right. However, the numeral for four is not IIII. Instead, the number four is written as IV. Because the one is before the five we subtract it making four. The same principle applies to the number nine, which is written as IX. There are six instances where subtraction is used:\n",
    "\n",
    "I can be placed before V (5) and X (10) to make 4 and 9. \n",
    "X can be placed before L (50) and C (100) to make 40 and 90. \n",
    "C can be placed before D (500) and M (1000) to make 400 and 900.\n",
    "Given a roman numeral, convert it to an integer.\n",
    "\n",
    " \n",
    "\n",
    "Example 1:\n",
    "\n",
    "Input: s = \"III\"\n",
    "Output: 3\n",
    "Explanation: III = 3.\n",
    "Example 2:\n",
    "\n",
    "Input: s = \"LVIII\"\n",
    "Output: 58\n",
    "Explanation: L = 50, V= 5, III = 3.\n",
    "Example 3:\n",
    "\n",
    "Input: s = \"MCMXCIV\"\n",
    "Output: 1994\n",
    "Explanation: M = 1000, CM = 900, XC = 90 and IV = 4.\n",
    " \n",
    "\n",
    "Constraints:\n",
    "\n",
    "1 <= s.length <= 15\n",
    "s contains only the characters ('I', 'V', 'X', 'L', 'C', 'D', 'M').\n",
    "It is guaranteed that s is a valid roman numeral in the range [1, 3999]."
   ]
  },
  {
   "cell_type": "code",
   "execution_count": 13,
   "metadata": {},
   "outputs": [
    {
     "ename": "ValueError",
     "evalue": "not enough values to unpack (expected 2, got 1)",
     "output_type": "error",
     "traceback": [
      "\u001b[1;31m---------------------------------------------------------------------------\u001b[0m",
      "\u001b[1;31mValueError\u001b[0m                                Traceback (most recent call last)",
      "\u001b[1;32mc:\\Users\\desan\\OneDrive\\Desktop\\LeetCodePractice\\LeetCodePractice\\Practice\\Roman to Integer.ipynb Cell 2\u001b[0m line \u001b[0;36m1\n\u001b[0;32m      <a href='vscode-notebook-cell:/c%3A/Users/desan/OneDrive/Desktop/LeetCodePractice/LeetCodePractice/Practice/Roman%20to%20Integer.ipynb#W0sZmlsZQ%3D%3D?line=2'>3</a>\u001b[0m r \u001b[39m=\u001b[39m \u001b[39m0\u001b[39m\n\u001b[0;32m      <a href='vscode-notebook-cell:/c%3A/Users/desan/OneDrive/Desktop/LeetCodePractice/LeetCodePractice/Practice/Roman%20to%20Integer.ipynb#W0sZmlsZQ%3D%3D?line=5'>6</a>\u001b[0m romans \u001b[39m=\u001b[39m {\u001b[39m'\u001b[39m\u001b[39mI\u001b[39m\u001b[39m'\u001b[39m: \u001b[39m1\u001b[39m,\n\u001b[0;32m      <a href='vscode-notebook-cell:/c%3A/Users/desan/OneDrive/Desktop/LeetCodePractice/LeetCodePractice/Practice/Roman%20to%20Integer.ipynb#W0sZmlsZQ%3D%3D?line=6'>7</a>\u001b[0m           \u001b[39m'\u001b[39m\u001b[39mV\u001b[39m\u001b[39m'\u001b[39m: \u001b[39m5\u001b[39m,\n\u001b[0;32m      <a href='vscode-notebook-cell:/c%3A/Users/desan/OneDrive/Desktop/LeetCodePractice/LeetCodePractice/Practice/Roman%20to%20Integer.ipynb#W0sZmlsZQ%3D%3D?line=7'>8</a>\u001b[0m           \u001b[39m'\u001b[39m\u001b[39mX\u001b[39m\u001b[39m'\u001b[39m: \u001b[39m10\u001b[39m,\n\u001b[1;32m   (...)\u001b[0m\n\u001b[0;32m     <a href='vscode-notebook-cell:/c%3A/Users/desan/OneDrive/Desktop/LeetCodePractice/LeetCodePractice/Practice/Roman%20to%20Integer.ipynb#W0sZmlsZQ%3D%3D?line=10'>11</a>\u001b[0m           \u001b[39m'\u001b[39m\u001b[39mD\u001b[39m\u001b[39m'\u001b[39m: \u001b[39m500\u001b[39m,\n\u001b[0;32m     <a href='vscode-notebook-cell:/c%3A/Users/desan/OneDrive/Desktop/LeetCodePractice/LeetCodePractice/Practice/Roman%20to%20Integer.ipynb#W0sZmlsZQ%3D%3D?line=11'>12</a>\u001b[0m           \u001b[39m'\u001b[39m\u001b[39mM\u001b[39m\u001b[39m'\u001b[39m: \u001b[39m1000\u001b[39m}\n\u001b[1;32m---> <a href='vscode-notebook-cell:/c%3A/Users/desan/OneDrive/Desktop/LeetCodePractice/LeetCodePractice/Practice/Roman%20to%20Integer.ipynb#W0sZmlsZQ%3D%3D?line=14'>15</a>\u001b[0m \u001b[39mfor\u001b[39;00m i, v \u001b[39min\u001b[39;00m s:\n\u001b[0;32m     <a href='vscode-notebook-cell:/c%3A/Users/desan/OneDrive/Desktop/LeetCodePractice/LeetCodePractice/Practice/Roman%20to%20Integer.ipynb#W0sZmlsZQ%3D%3D?line=15'>16</a>\u001b[0m \u001b[39m# for i, v in enumerate(s[::-1]):\u001b[39;00m\n\u001b[0;32m     <a href='vscode-notebook-cell:/c%3A/Users/desan/OneDrive/Desktop/LeetCodePractice/LeetCodePractice/Practice/Roman%20to%20Integer.ipynb#W0sZmlsZQ%3D%3D?line=18'>19</a>\u001b[0m     \u001b[39mif\u001b[39;00m i \u001b[39min\u001b[39;00m romans:\n\u001b[0;32m     <a href='vscode-notebook-cell:/c%3A/Users/desan/OneDrive/Desktop/LeetCodePractice/LeetCodePractice/Practice/Roman%20to%20Integer.ipynb#W0sZmlsZQ%3D%3D?line=20'>21</a>\u001b[0m         r \u001b[39m+\u001b[39m\u001b[39m=\u001b[39m romans[i]\n",
      "\u001b[1;31mValueError\u001b[0m: not enough values to unpack (expected 2, got 1)"
     ]
    }
   ],
   "source": [
    "s = \"III\"\n",
    "\n",
    "r = 0\n",
    "\n",
    "\n",
    "romans = {'I': 1,\n",
    "          'V': 5,\n",
    "          'X': 10,\n",
    "          'L': 50,\n",
    "          'C': 100,\n",
    "          'D': 500,\n",
    "          'M': 1000}\n",
    "\n",
    "\n",
    "for i, v in s:\n",
    "# for i, v in enumerate(s[::-1]):\n",
    "\n",
    "\n",
    "    if i in romans:\n",
    "\n",
    "        r += romans[i]\n",
    "\n",
    "    # elif romans[i-1] < v:\n",
    "    # if i > 0 and romans[s[i-1]] < romans[v]:  \n",
    "\n",
    "    #     r -= romans[i-1]\n",
    "\n",
    "\n",
    "print(r)"
   ]
  },
  {
   "cell_type": "code",
   "execution_count": 14,
   "metadata": {},
   "outputs": [
    {
     "name": "stdout",
     "output_type": "stream",
     "text": [
      "3\n"
     ]
    }
   ],
   "source": [
    "s = \"III\"\n",
    "r = 0\n",
    "\n",
    "romans = {'I': 1,\n",
    "          'V': 5,\n",
    "          'X': 10,\n",
    "          'L': 50,\n",
    "          'C': 100,\n",
    "          'D': 500,\n",
    "          'M': 1000}\n",
    "\n",
    "for i, v in enumerate(s[::-1]):\n",
    "    if i > 0 and romans[s[i-1]] < romans[v]:\n",
    "        r -= romans[v]\n",
    "    else:\n",
    "        r += romans[v]\n",
    "\n",
    "print(r)\n"
   ]
  },
  {
   "cell_type": "code",
   "execution_count": 19,
   "metadata": {},
   "outputs": [
    {
     "name": "stdout",
     "output_type": "stream",
     "text": [
      "998\n"
     ]
    }
   ],
   "source": [
    "s = \"CMXCVIII\"\n",
    "r = 0\n",
    "\n",
    "translations = {\n",
    "                    \"I\": 1,\n",
    "                    \"V\": 5,\n",
    "                    \"X\": 10,\n",
    "                    \"L\": 50,\n",
    "                    \"C\": 100,\n",
    "                    \"D\": 500,\n",
    "                    \"M\": 1000\n",
    "                }\n",
    "number = 0\n",
    "s = s.replace(\"IV\", \"IIII\").replace(\"IX\", \"VIIII\")\n",
    "s = s.replace(\"XL\", \"XXXX\").replace(\"XC\", \"LXXXX\")\n",
    "s = s.replace(\"CD\", \"CCCC\").replace(\"CM\", \"DCCCC\")\n",
    "for char in s:\n",
    "    number += translations[char]\n",
    "print(number)"
   ]
  },
  {
   "cell_type": "code",
   "execution_count": 25,
   "metadata": {},
   "outputs": [
    {
     "name": "stdout",
     "output_type": "stream",
     "text": [
      "998\n"
     ]
    }
   ],
   "source": [
    "s = \"CMXCVIII\"\n",
    "r = 0\n",
    "romans = {\n",
    "                    \"I\": 1,\n",
    "                    \"V\": 5,\n",
    "                    \"X\": 10,\n",
    "                    \"L\": 50,\n",
    "                    \"C\": 100,\n",
    "                    \"D\": 500,\n",
    "                    \"M\": 1000\n",
    "                }\n",
    "\n",
    "\n",
    "for i in range(len(s)):\n",
    "\n",
    "    if i+1 < len(s) and romans[s[i]] < romans[s[i+1]]:\n",
    "\n",
    "        r -= romans[s[i]]\n",
    "    else:\n",
    "\n",
    "        r += romans[s[i]]\n",
    "\n",
    "print(r)"
   ]
  },
  {
   "cell_type": "code",
   "execution_count": null,
   "metadata": {},
   "outputs": [],
   "source": []
  }
 ],
 "metadata": {
  "kernelspec": {
   "display_name": "Python 3",
   "language": "python",
   "name": "python3"
  },
  "language_info": {
   "codemirror_mode": {
    "name": "ipython",
    "version": 3
   },
   "file_extension": ".py",
   "mimetype": "text/x-python",
   "name": "python",
   "nbconvert_exporter": "python",
   "pygments_lexer": "ipython3",
   "version": "3.11.4"
  }
 },
 "nbformat": 4,
 "nbformat_minor": 2
}
