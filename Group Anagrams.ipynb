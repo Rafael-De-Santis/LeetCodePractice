{
 "cells": [
  {
   "cell_type": "markdown",
   "metadata": {},
   "source": [
    "### Group Anagrams"
   ]
  },
  {
   "cell_type": "code",
   "execution_count": 4,
   "metadata": {},
   "outputs": [],
   "source": [
    "strs = [\"eat\",\"tea\",\"tan\",\"ate\",\"nat\",\"bat\"]"
   ]
  },
  {
   "cell_type": "code",
   "execution_count": 8,
   "metadata": {},
   "outputs": [
    {
     "name": "stdout",
     "output_type": "stream",
     "text": [
      "dict_values([['eat', 'tea', 'ate'], ['tan', 'nat'], ['bat']])\n"
     ]
    }
   ],
   "source": [
    "from collections import defaultdict\n",
    "\n",
    "res = defaultdict(list)                 # mapping the CharCount to a list of anagrams\n",
    "\n",
    "for s in strs:                          # we loop through all the strings in strs\n",
    "    count = [0] * 26                    # we create a list with 26 zeros, a to z, one for each character\n",
    "    \n",
    "    for c in s:                         # now we go through every single character in each string\n",
    "        count[ord(c) - ord(\"a\")] +=1    # this will give us the index value we are gonna append to res\n",
    "                                        # we use ord() to map each character to an specific place, substracting the character value, mines de \"a\" character value    \n",
    "\n",
    "    res[tuple(count)].append(s)         # append string s, we are going to group the anagrams using [count]\n",
    "                                        # but what if the count doesn't exist? we change the regular dicionary for a defaultdictionary or default hashmap, where the default value is a list\n",
    "                                        # right now out \"count\" is a LIST, and LIST cannot be KEYS in a dictionary, that's why we added a tuple(count) - because they are not mutable and valid to be a KEY\n",
    "\n",
    "print(res.values())                     # here we just want to return the values, they grouped anagrams, we don't need the keys.\n",
    "\n",
    "# this is the optimal O(m * n) solution, where m is the number of strings we are given and n is the average length of each string ( how many characters in each string)"
   ]
  },
  {
   "cell_type": "markdown",
   "metadata": {},
   "source": [
    "#### Categorize by Sorting"
   ]
  },
  {
   "cell_type": "code",
   "execution_count": null,
   "metadata": {},
   "outputs": [],
   "source": [
    "res = {}\n",
    "\n",
    "for word in strs:\n",
    "\n",
    "    sorted_word =\"\".join(sorted(word))\n",
    "\n",
    "    if sorted_word in res:\n",
    "        res[sorted_word].append(word)\n",
    "    else:\n",
    "        res[sorted_word] = [word]     # the [] is vital, if not we'll get an error.x\n",
    "\n",
    "return res.values()\n"
   ]
  },
  {
   "cell_type": "code",
   "execution_count": null,
   "metadata": {},
   "outputs": [],
   "source": []
  }
 ],
 "metadata": {
  "kernelspec": {
   "display_name": "Python 3",
   "language": "python",
   "name": "python3"
  },
  "language_info": {
   "codemirror_mode": {
    "name": "ipython",
    "version": 3
   },
   "file_extension": ".py",
   "mimetype": "text/x-python",
   "name": "python",
   "nbconvert_exporter": "python",
   "pygments_lexer": "ipython3",
   "version": "3.11.4"
  }
 },
 "nbformat": 4,
 "nbformat_minor": 2
}
