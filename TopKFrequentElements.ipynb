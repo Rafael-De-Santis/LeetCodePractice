{
 "cells": [
  {
   "cell_type": "markdown",
   "metadata": {},
   "source": [
    "## Top K Frequent Elements\n",
    "\n",
    "Given an integer array nums and an integer k, return the k most frequent elements. You may return the answer in any order.\n",
    "\n",
    " \n",
    "\n",
    "Example 1:\n",
    "\n",
    "Input: nums = [1,1,1,2,2,3], k = 2\n",
    "Output: [1,2]\n",
    "Example 2:\n",
    "\n",
    "Input: nums = [1], k = 1\n",
    "Output: [1]\n",
    " \n",
    "\n",
    "Constraints:\n",
    "\n",
    "1 <= nums.length <= 105\n",
    "-104 <= nums[i] <= 104\n",
    "k is in the range [1, the number of unique elements in the array].\n",
    "It is guaranteed that the answer is unique.\n",
    " \n",
    "\n",
    "Follow up: Your algorithm's time complexity must be better than O(n log n), where n is the array's size."
   ]
  },
  {
   "cell_type": "markdown",
   "metadata": {},
   "source": [
    "### Bucket Sort"
   ]
  },
  {
   "cell_type": "code",
   "execution_count": 29,
   "metadata": {},
   "outputs": [],
   "source": [
    "nums = [1, 2, 3, 250, 2, 1, 330, 50, 50, 50]\n",
    "k = 3"
   ]
  },
  {
   "cell_type": "code",
   "execution_count": 21,
   "metadata": {},
   "outputs": [
    {
     "name": "stdout",
     "output_type": "stream",
     "text": [
      "[[], [], [], [], [], [], [], []]\n"
     ]
    }
   ],
   "source": [
    "tec = [[] for i in range(len(nums) + 1)]\n",
    "\n",
    "print(tec)"
   ]
  },
  {
   "cell_type": "code",
   "execution_count": 22,
   "metadata": {},
   "outputs": [
    {
     "name": "stdout",
     "output_type": "stream",
     "text": [
      "dict_items([(1, 2), (2, 2), (3, 1), (250, 1), (330, 1)])\n",
      "[[], [3, 250, 330], [1, 2], [], [], [], [], []]\n"
     ]
    }
   ],
   "source": [
    "count = {}\n",
    "tec = [[] for i in range(len(nums) + 1)]  # with this we create the buckets to insert the number of ocurrences, which won't be higher that the len(nums)\n",
    "                                          # \n",
    "\n",
    "\n",
    "for n in nums:\n",
    "    count[n] = 1 + count.get(n, 0)  # we are caount number of ocurrences\n",
    "for key, value, in count.items():   # here loop through the key ( i in nums) and the values (ocurrence)\n",
    "    tec[value].append(key)          # we append to the TEC index which is the VALUE ( ocurrence), THE KEY, which is the num in NUMS\n",
    "    \n",
    "print(count.items())\n",
    "print(tec)"
   ]
  },
  {
   "cell_type": "code",
   "execution_count": 33,
   "metadata": {},
   "outputs": [
    {
     "name": "stdout",
     "output_type": "stream",
     "text": [
      "[50, 1, 2]\n"
     ]
    }
   ],
   "source": [
    "count = {}\n",
    "tec = [[] for i in range(len(nums) + 1)]  # with this we create the buckets to insert the number of ocurrences, which won't be higher that the len(nums)\n",
    "                                          # \n",
    "\n",
    "                                          \n",
    "for n in nums:\n",
    "    count[n] = 1 + count.get(n, 0)  # we are caount number of ocurrences\n",
    "for key, value, in count.items():   # here loop through the key ( i in nums) and the values (ocurrence)\n",
    "    tec[value].append(key)          # we append to the TEC index which is the VALUE ( ocurrence), THE KEY, which is the num in NUMS\n",
    "\n",
    "\n",
    "res = []\n",
    "for i in range(len(tec) - 1, 0, -1): # we are gonna loop through TEC, in descending order [ len(tec) - 1] this means the last index, 0 the number to go to, -1 the step.\n",
    "    for n in tec[i]:                 # for every N in this [tec[i]] index, can be empty or can contain some values, \n",
    "        res.append(n)                # we append that number, to our result  \n",
    "        if len(res) == k :            # if our res is the SAME SIZE AS THE \"K\"\n",
    "            print(res)               # then we can return res"
   ]
  },
  {
   "cell_type": "code",
   "execution_count": 34,
   "metadata": {},
   "outputs": [
    {
     "name": "stdout",
     "output_type": "stream",
     "text": [
      "[50, 1, 2]\n"
     ]
    }
   ],
   "source": [
    "for n in nums:\n",
    "    count[n] = 1 + count.get(n, 0)  \n",
    "for key, value, in count.items():   \n",
    "    tec[value].append(key)          \n",
    "\n",
    "\n",
    "res = []\n",
    "for i in range(len(tec) - 1, 0, -1): \n",
    "    for n in tec[i]:                  \n",
    "        res.append(n)                  \n",
    "        if len(res) == k :\n",
    "            print(res)               "
   ]
  },
  {
   "cell_type": "markdown",
   "metadata": {},
   "source": [
    "Same Solution but using collections.Count\n",
    "Slowe than the first one"
   ]
  },
  {
   "cell_type": "code",
   "execution_count": 38,
   "metadata": {},
   "outputs": [
    {
     "name": "stdout",
     "output_type": "stream",
     "text": [
      "Counter({50: 3, 1: 2, 2: 2, 3: 1, 250: 1, 330: 1})\n",
      "[50, 1, 2]\n"
     ]
    }
   ],
   "source": [
    "import collections\n",
    "\n",
    "counter = collections.Counter(nums)\n",
    "\n",
    "nec = [[] for x in range(len(nums) + 1)]\n",
    "\n",
    "print(counter)\n",
    "\n",
    "for key, value in counter.items():\n",
    "    nec[value].append(key)\n",
    "\n",
    "res = []\n",
    "\n",
    "for i in range(len(nec) -1, 0, -1):\n",
    "    for n in nec[i]:\n",
    "        res.append(n)\n",
    "        if len(res) == k:\n",
    "            print(res)"
   ]
  },
  {
   "cell_type": "code",
   "execution_count": 1,
   "metadata": {},
   "outputs": [
    {
     "ename": "NameError",
     "evalue": "name 'test1' is not defined",
     "output_type": "error",
     "traceback": [
      "\u001b[1;31m---------------------------------------------------------------------------\u001b[0m",
      "\u001b[1;31mNameError\u001b[0m                                 Traceback (most recent call last)",
      "\u001b[1;32mc:\\Users\\desan\\OneDrive\\Desktop\\LeetCodePractice\\LeetCodePractice\\TopKFrequentElements.ipynb Cell 10\u001b[0m line \u001b[0;36m1\n\u001b[1;32m----> <a href='vscode-notebook-cell:/c%3A/Users/desan/OneDrive/Desktop/LeetCodePractice/LeetCodePractice/TopKFrequentElements.ipynb#X12sZmlsZQ%3D%3D?line=0'>1</a>\u001b[0m test1\n",
      "\u001b[1;31mNameError\u001b[0m: name 'test1' is not defined"
     ]
    }
   ],
   "source": [
    "ad12test1asd"
   ]
  },
  {
   "cell_type": "code",
   "execution_count": null,
   "metadata": {},
   "outputs": [],
   "source": []
  }
 ],
 "metadata": {
  "kernelspec": {
   "display_name": "Python 3",
   "language": "python",
   "name": "python3"
  },
  "language_info": {
   "codemirror_mode": {
    "name": "ipython",
    "version": 3
   },
   "file_extension": ".py",
   "mimetype": "text/x-python",
   "name": "python",
   "nbconvert_exporter": "python",
   "pygments_lexer": "ipython3",
   "version": "3.11.4"
  }
 },
 "nbformat": 4,
 "nbformat_minor": 2
}
