{
 "cells": [
  {
   "cell_type": "code",
   "execution_count": 12,
   "metadata": {},
   "outputs": [],
   "source": [
    "nums = [1, 2, 3, 250, 2, 1, 330]"
   ]
  },
  {
   "cell_type": "code",
   "execution_count": 13,
   "metadata": {},
   "outputs": [
    {
     "name": "stdout",
     "output_type": "stream",
     "text": [
      "[[[1, 2, 3, 250, 2, 1, 330]], [[1, 2, 3, 250, 2, 1, 330]], [[1, 2, 3, 250, 2, 1, 330]], [[1, 2, 3, 250, 2, 1, 330]], [[1, 2, 3, 250, 2, 1, 330]], [[1, 2, 3, 250, 2, 1, 330]], [[1, 2, 3, 250, 2, 1, 330]], [[1, 2, 3, 250, 2, 1, 330]]]\n"
     ]
    }
   ],
   "source": [
    "tec = [[nums] for i in range(len(nums) + 1)]\n",
    "\n",
    "print(tec)"
   ]
  },
  {
   "cell_type": "code",
   "execution_count": 16,
   "metadata": {},
   "outputs": [
    {
     "name": "stdout",
     "output_type": "stream",
     "text": [
      "[[[1, 2, 3, 250, 2, 1, 330]], [[1, 2, 3, 250, 2, 1, 330]], [[1, 2, 3, 250, 2, 1, 330]], [[1, 2, 3, 250, 2, 1, 330]], [[1, 2, 3, 250, 2, 1, 330]], [[1, 2, 3, 250, 2, 1, 330]], [[1, 2, 3, 250, 2, 1, 330]], [[1, 2, 3, 250, 2, 1, 330]], 1, 2, 3, 250, 330]\n"
     ]
    }
   ],
   "source": [
    "count = {}\n",
    "tec = [[nums] for i in range(len(nums) + 1)]\n",
    "\n",
    "for n in nums:\n",
    "    count[n] = 1 + count.get(n, 0)\n",
    "for n, x, in count.items():\n",
    "    tec.append(n)\n",
    "\n",
    "print(tec)"
   ]
  },
  {
   "cell_type": "code",
   "execution_count": null,
   "metadata": {},
   "outputs": [],
   "source": []
  }
 ],
 "metadata": {
  "kernelspec": {
   "display_name": "Python 3",
   "language": "python",
   "name": "python3"
  },
  "language_info": {
   "codemirror_mode": {
    "name": "ipython",
    "version": 3
   },
   "file_extension": ".py",
   "mimetype": "text/x-python",
   "name": "python",
   "nbconvert_exporter": "python",
   "pygments_lexer": "ipython3",
   "version": "3.9.6"
  }
 },
 "nbformat": 4,
 "nbformat_minor": 2
}
