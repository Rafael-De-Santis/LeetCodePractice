{
 "cells": [
  {
   "cell_type": "markdown",
   "metadata": {},
   "source": [
    "## Top K Frequent Elements"
   ]
  },
  {
   "cell_type": "markdown",
   "metadata": {},
   "source": [
    "### Bucket Sort"
   ]
  },
  {
   "cell_type": "code",
   "execution_count": 29,
   "metadata": {},
   "outputs": [],
   "source": [
    "nums = [1, 2, 3, 250, 2, 1, 330, 50, 50, 50]\n",
    "k = 3"
   ]
  },
  {
   "cell_type": "code",
   "execution_count": 21,
   "metadata": {},
   "outputs": [
    {
     "name": "stdout",
     "output_type": "stream",
     "text": [
      "[[], [], [], [], [], [], [], []]\n"
     ]
    }
   ],
   "source": [
    "tec = [[] for i in range(len(nums) + 1)]\n",
    "\n",
    "print(tec)"
   ]
  },
  {
   "cell_type": "code",
   "execution_count": 22,
   "metadata": {},
   "outputs": [
    {
     "name": "stdout",
     "output_type": "stream",
     "text": [
      "dict_items([(1, 2), (2, 2), (3, 1), (250, 1), (330, 1)])\n",
      "[[], [3, 250, 330], [1, 2], [], [], [], [], []]\n"
     ]
    }
   ],
   "source": [
    "count = {}\n",
    "tec = [[] for i in range(len(nums) + 1)]  # with this we create the buckets to insert the number of ocurrences, which won't be higher that the len(nums)\n",
    "                                          # \n",
    "\n",
    "\n",
    "for n in nums:\n",
    "    count[n] = 1 + count.get(n, 0)  # we are caount number of ocurrences\n",
    "for key, value, in count.items():   # here loop through the key ( i in nums) and the values (ocurrence)\n",
    "    tec[value].append(key)          # we append to the TEC index which is the VALUE ( ocurrence), THE KEY, which is the num in NUMS\n",
    "    \n",
    "print(count.items())\n",
    "print(tec)"
   ]
  },
  {
   "cell_type": "code",
   "execution_count": 33,
   "metadata": {},
   "outputs": [
    {
     "name": "stdout",
     "output_type": "stream",
     "text": [
      "[50, 1, 2]\n"
     ]
    }
   ],
   "source": [
    "count = {}\n",
    "tec = [[] for i in range(len(nums) + 1)]  # with this we create the buckets to insert the number of ocurrences, which won't be higher that the len(nums)\n",
    "                                          # \n",
    "\n",
    "                                          \n",
    "for n in nums:\n",
    "    count[n] = 1 + count.get(n, 0)  # we are caount number of ocurrences\n",
    "for key, value, in count.items():   # here loop through the key ( i in nums) and the values (ocurrence)\n",
    "    tec[value].append(key)          # we append to the TEC index which is the VALUE ( ocurrence), THE KEY, which is the num in NUMS\n",
    "\n",
    "\n",
    "res = []\n",
    "for i in range(len(tec) - 1, 0, -1): # we are gonna loop through TEC, in descending order [ len(tec) - 1] this means the last index, 0 the number to go to, -1 the step.\n",
    "    for n in tec[i]:                 # for every N in this [tec[i]] index, can be empty or can contain some values, \n",
    "        res.append(n)                # we append that number, to our result  \n",
    "        if len(res) == k :            # if our res is the SAME SIZE AS THE \"K\"\n",
    "            print(res)               # then we can return res"
   ]
  },
  {
   "cell_type": "code",
   "execution_count": 34,
   "metadata": {},
   "outputs": [
    {
     "name": "stdout",
     "output_type": "stream",
     "text": [
      "[50, 1, 2]\n"
     ]
    }
   ],
   "source": [
    "for n in nums:\n",
    "    count[n] = 1 + count.get(n, 0)  \n",
    "for key, value, in count.items():   \n",
    "    tec[value].append(key)          \n",
    "\n",
    "\n",
    "res = []\n",
    "for i in range(len(tec) - 1, 0, -1): \n",
    "    for n in tec[i]:                  \n",
    "        res.append(n)                  \n",
    "        if len(res) == k :\n",
    "            print(res)               "
   ]
  },
  {
   "cell_type": "code",
   "execution_count": null,
   "metadata": {},
   "outputs": [],
   "source": []
  }
 ],
 "metadata": {
  "kernelspec": {
   "display_name": "Python 3",
   "language": "python",
   "name": "python3"
  },
  "language_info": {
   "codemirror_mode": {
    "name": "ipython",
    "version": 3
   },
   "file_extension": ".py",
   "mimetype": "text/x-python",
   "name": "python",
   "nbconvert_exporter": "python",
   "pygments_lexer": "ipython3",
   "version": "3.11.4"
  }
 },
 "nbformat": 4,
 "nbformat_minor": 2
}
