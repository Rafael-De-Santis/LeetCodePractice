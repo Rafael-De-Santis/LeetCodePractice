{
 "cells": [
  {
   "cell_type": "markdown",
   "id": "93f7753b-f223-4115-8d40-41dc5d30f39c",
   "metadata": {
    "tags": []
   },
   "source": [
    "## TWO SUM problem : LeetCode #1\n",
    "_Given an array of integers nums and an integer target, return indices of the two numbers such that they add up to target.\n",
    "You may assume that each input would have exactly one solution, and you may not use the same element twice\n",
    "You can return the answer in any order._\n",
    "\n",
    "### Loop Solution\n",
    "\n",
    "def twoSum(self, nums, target):\n",
    "\n",
    "- you may not use the same element twice: that's why we do a for range loop and use -1 and i+1 in the loops, that way we don't repeat characters.\n",
    "\n",
    "        for i in range(len(nums)-1):\n",
    "            for j in range(i+1, len(nums)):\n",
    "                if (nums[i] + nums[j]) == target:\n",
    "                     return [i, j]\n",
    "                     \n",
    "### Dictionary Solution\n",
    "\n",
    " - we are going to store the indexes and values we already seen and we can use those stored values to loop up and see if a current value + anything that is stored will == to target and if it does\n",
    " we can just return what those indexes are\n",
    " \n",
    " - it should allow us, to go through the number array only once to find the solution, but we will have to have a little bit more memory usage because we are gonna need to store some numbers.\n",
    " \n",
    "         seen = {}\n",
    "\n",
    "        for i, num in enumerate(nums):           # this should loop through any number\n",
    "            if target - num  in seen:            # if target - num is in SEEN\n",
    "                return ([seen[target - num], i]) # return that number [target - num] \"THE VALUE\", i ()index of that value)\n",
    "            elif num not in seen:                # IF NOT IS IN SEEN\n",
    "                seen[num] = i                    # we will store the number and the index, the repeteaded values will be skipped, unless we do an .append\n",
    "                                                 # the append will be like seen[value].append(index)"
   ]
  },
  {
   "cell_type": "code",
   "execution_count": 5,
   "id": "d584e32d-2faf-4314-aa3b-8f5ccb45f3ec",
   "metadata": {},
   "outputs": [],
   "source": [
    "list = [1,2,2,6,8,12,43]\n",
    "seen = {}"
   ]
  },
  {
   "cell_type": "code",
   "execution_count": 55,
   "id": "647751b6-dccf-4047-aa12-eeee4ae11dc0",
   "metadata": {},
   "outputs": [],
   "source": [
    "for i, element in enumerate(list):\n",
    "    seen[element] = i"
   ]
  },
  {
   "cell_type": "code",
   "execution_count": 56,
   "id": "2a68d9cf-8042-41b5-9584-1ec6c47095ef",
   "metadata": {},
   "outputs": [
    {
     "name": "stdout",
     "output_type": "stream",
     "text": [
      "{1: 0, 2: 2, 6: 3, 8: 4, 12: 5, 43: 6}\n"
     ]
    }
   ],
   "source": [
    "print(seen)"
   ]
  },
  {
   "cell_type": "code",
   "execution_count": 1,
   "id": "f5bc1b5b-fe23-4d7b-961c-dbbb3b976f2a",
   "metadata": {},
   "outputs": [],
   "source": [
    "nums = [1, 5, 5, 6, 6, 7, 7, 3, 4, 5, 10]\n",
    "\n",
    "target = 9"
   ]
  },
  {
   "cell_type": "markdown",
   "id": "dca98812-f73c-40b4-bd96-996f3276870b",
   "metadata": {
    "tags": []
   },
   "source": [
    "### REMEMBER, THE RESULT RETURNS THE KEYS IN SEEN, NOT THE VALUES"
   ]
  },
  {
   "cell_type": "code",
   "execution_count": 13,
   "id": "59c867f1-b4ee-44b9-84d7-981a2af912c6",
   "metadata": {},
   "outputs": [
    {
     "name": "stdout",
     "output_type": "stream",
     "text": [
      "[3, 7]\n",
      "[1, 8]\n"
     ]
    }
   ],
   "source": [
    "seen =  {}\n",
    "for i, num in enumerate(nums):           # this should loop through any number\n",
    "     if target - num  in seen:            # if \"target - num\" WHICH IS THE value we are looking for is in SEEN( we already stored it)\n",
    "         print (([seen[target - num], i])) # IMPORTANT!!: return that number [target - num] \"THE VALUE\" which will be the index, AND  i ()index which is the index of the value we are looping right now!!!)\n",
    "     elif num not in seen:                # IF NOT IS IN SEEN, WE STORE the number to use it later.\n",
    "         seen[num] = i"
   ]
  },
  {
   "cell_type": "code",
   "execution_count": 9,
   "id": "64b2e137-6367-4c4c-a988-96c4a298cd74",
   "metadata": {},
   "outputs": [
    {
     "name": "stdout",
     "output_type": "stream",
     "text": [
      "{1: 0, 5: 1, 6: 3, 7: 5, 10: 10}\n"
     ]
    }
   ],
   "source": [
    "print(seen)"
   ]
  },
  {
   "cell_type": "code",
   "execution_count": 12,
   "id": "336d4e6a-8ad1-43c2-a81f-27ce0434c3c2",
   "metadata": {},
   "outputs": [
    {
     "name": "stdout",
     "output_type": "stream",
     "text": [
      "0 1\n",
      "1 5\n",
      "2 5\n",
      "3 6\n",
      "4 6\n",
      "5 7\n",
      "6 7\n",
      "7 3\n",
      "8 4\n",
      "9 5\n",
      "10 10\n"
     ]
    }
   ],
   "source": [
    "for i, num in enumerate(nums):\n",
    "    print(i, num)"
   ]
  },
  {
   "cell_type": "markdown",
   "id": "e19db6a6-c479-45b8-9fd4-ce6ef83ec365",
   "metadata": {},
   "source": [
    "## Add Two Numbers: LeetCode #2"
   ]
  },
  {
   "cell_type": "markdown",
   "id": "930c76e5-a6a7-4d1d-90ed-cd2c7ff089e6",
   "metadata": {},
   "source": [
    "Given two NON-EMPTY **linked lists representing two non-negative integers**.  \n",
    "The digits are stored in **reverse order** and each of their nodes contain a single digit.  \n",
    "Add the two numbers and **return it as a linked list**."
   ]
  },
  {
   "cell_type": "code",
   "execution_count": 3,
   "id": "ba02d43f-ab1f-47c4-a08c-69b4c32c3d38",
   "metadata": {},
   "outputs": [],
   "source": [
    "# Definition for singly-linked list.\n",
    "class ListNode:\n",
    "     def __init__(self, val=0, next=None):\n",
    "         self.val = val\n",
    "         self.next = next\n",
    "class Solution:\n",
    "    def addTwoNumbers(self, l1: [ListNode], l2: [ListNode]) -> [ListNode]:\n",
    "        \n",
    "        \n",
    "        added = ListNode (val  = (l1.val + l2.val) % 10)  # right here we defined the first value and the variable to store the rest of the nodes\n",
    "        carryover = (l1.val + l2.val) // 10               # this will always be 0 or 1, if we have 1 we carry over to the next node\n",
    "        current_node = added                              # this is our head, or first node. We defined it as a Linked List!\n",
    "\n",
    "        while(l1.next and l2.next):         # this will iterate if there's a value in both l1 and l2\n",
    "\n",
    "            l1 = l1.next\n",
    "            l2 = l2.next\n",
    "\n",
    "            current_node.next  = ListNode (val  = (carryover + l1.val + l2.val) % 10) # we basicaly are saying added.next is equal to this sum + the carryover ( if there's one)\n",
    "            carryover = (carryover + l1.val + l2.val) // 10    # this will be the new carryover\n",
    "            current_node = current_node.next\n",
    "        \n",
    "        while(l1.next):\n",
    "\n",
    "            l1 = l1.next\n",
    "\n",
    "            current_node.next  = ListNode (val  = (carryover + l1.val) % 10)\n",
    "            carryover = (carryover + l1.val) // 10\n",
    "            current_node = current_node.next\n",
    "\n",
    "        while(l2.next):\n",
    "\n",
    "            l2 = l2.next\n",
    "\n",
    "            current_node.next  = ListNode (val  = (carryover + l2.val) % 10)\n",
    "            carryover = (carryover + l2.val) // 10\n",
    "            current_node = current_node.next\n",
    "\n",
    "        if (carryover > 0):                               # check if there's still a carryover value\n",
    "            current_node.next = ListNode( val = 1)        # add the resultant carryover to our ListNode\n",
    "\n",
    "        return (added)\n",
    "    \n",
    "    \n",
    "\n",
    "# --------------------------------------------------------------------------------------------------------------------------------\n",
    "# SOLUTION2\n",
    "# --------------------------------------------------------------------------------------------------------------------------------\n",
    "        dummy = ListNode()\n",
    "        cur = dummy\n",
    "\n",
    "        carry = 0\n",
    "        while l1 or l2 or carry:\n",
    "            v1 = l1.val if l1 else 0\n",
    "            v2 = l2.val if l2 else 0\n",
    "\n",
    "            #new digit\n",
    "            val = v1 + v2 + carry\n",
    "            carry = val // 10\n",
    "            val = val % 10\n",
    "            cur.next = ListNode(val)\n",
    "\n",
    "            #update pointers\n",
    "            cur = cur.next\n",
    "            l1 = l1.next if l1 else  None\n",
    "            l2 = l2.next if l2 else None\n",
    "\n",
    "        return dummy.next"
   ]
  },
  {
   "cell_type": "markdown",
   "id": "2031b9e5-806d-4389-b42f-5015275e4cbf",
   "metadata": {},
   "source": [
    "## Longest Substring Without Repeating Characters: LeetCode #3"
   ]
  },
  {
   "cell_type": "code",
   "execution_count": 67,
   "id": "83db5c8d-3e8c-4206-8b40-40eb0b369b5d",
   "metadata": {},
   "outputs": [],
   "source": [
    "s = \"abcabcbb\"\n",
    "\n",
    "def lengthOfLongestSubstring(x):\n",
    "        \n",
    "        \n",
    "        \n",
    "        return len(x)\n"
   ]
  },
  {
   "cell_type": "code",
   "execution_count": 80,
   "id": "d5f552a0-d845-474f-a568-4635a7042763",
   "metadata": {},
   "outputs": [
    {
     "name": "stdout",
     "output_type": "stream",
     "text": [
      "this is the answer ofthe problem: 1 \n",
      "these are the rest of the results 0 0 a 1 0 {'a': 0}\n",
      "this is the answer ofthe problem: 2 \n",
      "these are the rest of the results 1 1 b 2 0 {'a': 0, 'b': 1}\n",
      "this is the answer ofthe problem: 3 \n",
      "these are the rest of the results 2 2 c 3 0 {'a': 0, 'b': 1, 'c': 2}\n",
      "this is the answer ofthe problem: 4 \n",
      "these are the rest of the results 3 3 d 4 0 {'a': 0, 'b': 1, 'c': 2, 'd': 3}\n",
      "this is the answer ofthe problem: 5 \n",
      "these are the rest of the results 4 4 e 5 0 {'a': 0, 'b': 1, 'c': 2, 'd': 3, 'e': 4}\n",
      "this is the answer ofthe problem: 5 \n",
      "these are the rest of the results 5 5 c 3 3 {'a': 0, 'b': 1, 'c': 5, 'd': 3, 'e': 4}\n",
      "this is the answer ofthe problem: 5 \n",
      "these are the rest of the results 6 6 f 4 3 {'a': 0, 'b': 1, 'c': 5, 'd': 3, 'e': 4, 'f': 6}\n",
      "this is the answer ofthe problem: 5 \n",
      "these are the rest of the results 7 7 a 5 3 {'a': 7, 'b': 1, 'c': 5, 'd': 3, 'e': 4, 'f': 6}\n",
      "this is the answer ofthe problem: 6 \n",
      "these are the rest of the results 8 8 b 6 3 {'a': 7, 'b': 8, 'c': 5, 'd': 3, 'e': 4, 'f': 6}\n"
     ]
    }
   ],
   "source": [
    "s = \"abcdecfab\"\n",
    "\n",
    "sub = {}            # keeping track of the letter we already seen, and WHAT INDEX POSITION THEY ARE\n",
    "cur_sub_start = 0   # keep track of the INDEX where our currect SUBSTRING is starting from, this move up WHEN WE HAVE A DUPLICATE\n",
    "cur_len = 0         # keep track of the current len\n",
    "longest = 0         # the longest len we have seen\n",
    "\n",
    "for i , letter in enumerate(s):    # loop through every letter in our input. we use enumerate because we need the index position.\n",
    "                                                        # IMPORTANT\n",
    "    if letter in sub and sub[letter] >= cur_sub_start:  # WE ALSO NEED TO KNOW, IF WE HAVE SEEN THE DUPLICATE WITHIN OUR CURRECT SUBSTRING, \n",
    "        # THAT'S WHY WE USE sub[letter >= current\n",
    "        # if these 2 are two, we ran into a colision, the second condition its very important. WE DON'T CARE IF WE HAVE SEEN IT BEFORE OUR CURRENT SUBSTRING.\n",
    "        # WHEN WE USE sub[letter] we are referencing our INDEX, therefore, that would be the INDEX POSITION.\n",
    "        \n",
    "        cur_sub_start = sub[letter] + 1    # we need to reset and make start new substring. we set the start 1 after the letter that was the duplicate.      \n",
    "                                           # basically this says, if we saw the same letter in sub[letter], start 1 index after that ( +1 )\n",
    "            \n",
    "        cur_len = i - sub[letter]          # this is resetting the current len of our count. the i of the duplicate minus the first seen letter index.\n",
    "                                           # we are set in the len to the value of the new substring. after the first repetead value. e.g b to a\n",
    "        #REMEMBER THE LOOP keeps going, it doesn't start from the repeated value, it keeps going, that's why we need this, \n",
    "        #to keep track of the len of the new substring we are getting from there. \n",
    "            \n",
    "        sub[letter] = i                    # updating the value of the new letter. we won't need the old index anymore.\n",
    "        # because now that we saw the repeteaded value and we are starting a new substring, everything before the old repeteaded value doesn't matter anymore\n",
    "        # we are only checking forward\n",
    "    else:\n",
    "        sub[letter] = i                    # updating the value of the new letter. we won't need the old index anymore.\n",
    "        cur_len += 1                       # adding len\n",
    "        if cur_len > longest:              # updating our longest. if the sum of the current letter makes a longer substring.\n",
    "            longest = cur_len\n",
    "        \n",
    "        \n",
    "    print(\"this is the answer ofthe problem:\", longest, \"\\nthese are the rest of the results\",sub[letter], i, letter, cur_len, cur_sub_start, sub)"
   ]
  },
  {
   "cell_type": "markdown",
   "id": "0a6ab1ac-cd93-42de-9ed8-fe1cdb8f8958",
   "metadata": {},
   "source": [
    "## Median of Two Sorted Arrays: LeetCode #4"
   ]
  },
  {
   "cell_type": "code",
   "execution_count": 94,
   "id": "606e6790-48ef-4cc3-b3fb-33055dc97173",
   "metadata": {},
   "outputs": [
    {
     "name": "stdout",
     "output_type": "stream",
     "text": [
      "Requirement already satisfied: pandas in c:\\users\\rdesantis\\appdata\\local\\anaconda3\\lib\\site-packages (1.5.3)\n",
      "Requirement already satisfied: pytz>=2020.1 in c:\\users\\rdesantis\\appdata\\local\\anaconda3\\lib\\site-packages (from pandas) (2022.7)\n",
      "Requirement already satisfied: numpy>=1.21.0 in c:\\users\\rdesantis\\appdata\\local\\anaconda3\\lib\\site-packages (from pandas) (1.23.5)\n",
      "Requirement already satisfied: python-dateutil>=2.8.1 in c:\\users\\rdesantis\\appdata\\local\\anaconda3\\lib\\site-packages (from pandas) (2.8.2)\n",
      "Requirement already satisfied: six>=1.5 in c:\\users\\rdesantis\\appdata\\local\\anaconda3\\lib\\site-packages (from python-dateutil>=2.8.1->pandas) (1.16.0)\n"
     ]
    }
   ],
   "source": [
    "!pip install pandas"
   ]
  },
  {
   "cell_type": "code",
   "execution_count": 95,
   "id": "7331ee0e-1e71-497a-b969-3466d5a0615d",
   "metadata": {},
   "outputs": [],
   "source": [
    "import pandas as pd"
   ]
  },
  {
   "cell_type": "code",
   "execution_count": 96,
   "id": "76487bb9-d175-4d0e-b793-4ab4d6f6f474",
   "metadata": {},
   "outputs": [],
   "source": [
    "num1 = [1,2]\n",
    "num2 = [3,4]"
   ]
  },
  {
   "cell_type": "code",
   "execution_count": 97,
   "id": "f4ca06f8-0b57-4d7e-8afa-6e5d5d95fc6a",
   "metadata": {},
   "outputs": [],
   "source": [
    "num3 = num1+num2"
   ]
  },
  {
   "cell_type": "code",
   "execution_count": 106,
   "id": "cb7151a2-52e1-4ee5-8a5b-1853dd83b292",
   "metadata": {},
   "outputs": [
    {
     "data": {
      "text/plain": [
       "[1, 2, 3, 4]"
      ]
     },
     "execution_count": 106,
     "metadata": {},
     "output_type": "execute_result"
    }
   ],
   "source": [
    "num3"
   ]
  },
  {
   "cell_type": "code",
   "execution_count": 102,
   "id": "70edf1ce-e097-445f-b44d-1530448db143",
   "metadata": {},
   "outputs": [],
   "source": [
    "df = pd.DataFrame(num3)"
   ]
  },
  {
   "cell_type": "code",
   "execution_count": 103,
   "id": "96986db5-919f-4581-917d-a8a4647901f2",
   "metadata": {},
   "outputs": [
    {
     "data": {
      "text/plain": [
       "0    2.5\n",
       "dtype: float64"
      ]
     },
     "execution_count": 103,
     "metadata": {},
     "output_type": "execute_result"
    }
   ],
   "source": [
    "df.median()"
   ]
  },
  {
   "cell_type": "code",
   "execution_count": 105,
   "id": "209a79f8-eead-464f-ac78-91f63f71c72e",
   "metadata": {},
   "outputs": [
    {
     "name": "stdout",
     "output_type": "stream",
     "text": [
      "2.5\n"
     ]
    }
   ],
   "source": [
    "print(df[0].median())"
   ]
  },
  {
   "cell_type": "markdown",
   "id": "ee243cd0",
   "metadata": {},
   "source": [
    "### Valid Anagram\n",
    "\n",
    "### Solution 1\n",
    "\n",
    "#### \n",
    "class Solution:\n",
    "    def isAnagram(self, s: str, t: str) -> bool:\n",
    " \n",
    "       if len(s) != len(t):\n",
    "            return False\n",
    "\n",
    "        mapS, mapT = {}, {}\n",
    "\n",
    "        for i in range(len(s)):\n",
    "            mapS[s[i]] = 1 + mapS.get(s[i], 0)\n",
    "            mapT[t[i]] = 1 + mapT.get(t[i], 0)\n",
    "\n",
    "        for c in mapS:\n",
    "            if mapS[c] != mapT.get(c, 0):\n",
    "                return False\n",
    "\n",
    "        return True\n"
   ]
  },
  {
   "cell_type": "markdown",
   "id": "4e3ba415",
   "metadata": {},
   "source": [
    "### Solution 2\n",
    "\n",
    "return Counter(s) == Counter(t)"
   ]
  },
  {
   "cell_type": "markdown",
   "id": "217fd475",
   "metadata": {},
   "source": [
    "### Solution 3"
   ]
  },
  {
   "cell_type": "markdown",
   "id": "18b2f1e3",
   "metadata": {},
   "source": [
    "return sorted(s) == sorted (t)"
   ]
  },
  {
   "cell_type": "code",
   "execution_count": 6,
   "id": "983e1681",
   "metadata": {},
   "outputs": [],
   "source": [
    "s = \"didtlg\"\n",
    "t = \"tliddg\"\n",
    "\n",
    "mapS, mapT = {}, {}"
   ]
  },
  {
   "cell_type": "code",
   "execution_count": 16,
   "id": "49d89895",
   "metadata": {},
   "outputs": [
    {
     "data": {
      "text/plain": [
       "{}"
      ]
     },
     "execution_count": 16,
     "metadata": {},
     "output_type": "execute_result"
    }
   ],
   "source": [
    "for i in range(s)"
   ]
  },
  {
   "cell_type": "markdown",
   "id": "d2885043",
   "metadata": {},
   "source": [
    "### Contains Duplicate"
   ]
  },
  {
   "cell_type": "code",
   "execution_count": 105,
   "id": "6bd9752a",
   "metadata": {},
   "outputs": [],
   "source": [
    "def exe(nums):\n",
    "    dic = {}\n",
    "\n",
    "    for i, num in enumerate(nums):\n",
    "        \n",
    "        if num in dic:\n",
    "            return True\n",
    "        else:\n",
    "            dic[num] = i\n",
    "            \n",
    "    return False"
   ]
  },
  {
   "cell_type": "code",
   "execution_count": 107,
   "id": "a756d9e6",
   "metadata": {},
   "outputs": [
    {
     "data": {
      "text/plain": [
       "True"
      ]
     },
     "execution_count": 107,
     "metadata": {},
     "output_type": "execute_result"
    }
   ],
   "source": [
    "nums = [1,2,3,4,1]\n",
    "\n",
    "exe(nums)"
   ]
  },
  {
   "cell_type": "code",
   "execution_count": 30,
   "id": "910847ce",
   "metadata": {},
   "outputs": [
    {
     "data": {
      "text/plain": [
       "{}"
      ]
     },
     "execution_count": 30,
     "metadata": {},
     "output_type": "execute_result"
    }
   ],
   "source": [
    "dic"
   ]
  },
  {
   "cell_type": "code",
   "execution_count": 66,
   "id": "cc9d849e",
   "metadata": {},
   "outputs": [
    {
     "name": "stdout",
     "output_type": "stream",
     "text": [
      "1\n",
      "2\n",
      "3\n",
      "4\n",
      "1\n"
     ]
    }
   ],
   "source": [
    "test = {}\n",
    "\n",
    "for i, num in enumerate(nums):\n",
    "    test[num] = i\n",
    "    print(num)"
   ]
  },
  {
   "cell_type": "code",
   "execution_count": 64,
   "id": "1b8df017",
   "metadata": {},
   "outputs": [
    {
     "name": "stdout",
     "output_type": "stream",
     "text": [
      "{1: 4, 2: 1, 3: 2, 4: 3}\n"
     ]
    }
   ],
   "source": [
    "print(test)\n"
   ]
  },
  {
   "cell_type": "code",
   "execution_count": 109,
   "id": "46cf7b6d",
   "metadata": {},
   "outputs": [],
   "source": [
    "array = [2,7,11,15]\n",
    "target = 9"
   ]
  },
  {
   "cell_type": "code",
   "execution_count": 110,
   "id": "37b4a947",
   "metadata": {},
   "outputs": [],
   "source": [
    "def twoSum(lista, num):\n",
    "    seen = {}\n",
    "    \n",
    "    "
   ]
  },
  {
   "cell_type": "code",
   "execution_count": 112,
   "id": "f192fba2",
   "metadata": {},
   "outputs": [
    {
     "name": "stdout",
     "output_type": "stream",
     "text": [
      "0 2\n",
      "1 7\n",
      "2 11\n",
      "3 15\n"
     ]
    }
   ],
   "source": [
    "for i, num in enumerate(array):\n",
    "    print(i, num)"
   ]
  },
  {
   "cell_type": "markdown",
   "id": "1ad28032",
   "metadata": {},
   "source": [
    "### Group Anagrams"
   ]
  },
  {
   "cell_type": "code",
   "execution_count": 113,
   "id": "8cded832",
   "metadata": {},
   "outputs": [],
   "source": [
    "strs = [\"eat\",\"tea\",\"tan\",\"ate\",\"nat\",\"bat\"]"
   ]
  },
  {
   "cell_type": "code",
   "execution_count": 201,
   "id": "cda0702f",
   "metadata": {},
   "outputs": [],
   "source": [
    "def group(strs):\n",
    "    \n",
    "    nueva = {}\n",
    "    \n",
    "    for i in range(len(strs)-1):\n",
    "        for j in range(i+1, len(strs)):\n",
    "            if Counter(strs[i]) == Counter(strs[j]):\n",
    "                nueva.append([strs[i],strs[j]])\n",
    "            else:\n",
    "                nueva.append(strs[i])\n",
    "                nueva.append(strs[j])\n",
    "    return nueva"
   ]
  },
  {
   "cell_type": "code",
   "execution_count": 200,
   "id": "aa6d27e5",
   "metadata": {},
   "outputs": [
    {
     "ename": "TypeError",
     "evalue": "'int' object is not iterable",
     "output_type": "error",
     "traceback": [
      "\u001b[1;31m---------------------------------------------------------------------------\u001b[0m",
      "\u001b[1;31mTypeError\u001b[0m                                 Traceback (most recent call last)",
      "Cell \u001b[1;32mIn[200], line 1\u001b[0m\n\u001b[1;32m----> 1\u001b[0m \u001b[43mgroup\u001b[49m\u001b[43m(\u001b[49m\u001b[43mstrs\u001b[49m\u001b[43m)\u001b[49m\n",
      "Cell \u001b[1;32mIn[199], line 7\u001b[0m, in \u001b[0;36mgroup\u001b[1;34m(strs)\u001b[0m\n\u001b[0;32m      5\u001b[0m \u001b[38;5;28;01mfor\u001b[39;00m i \u001b[38;5;129;01min\u001b[39;00m \u001b[38;5;28mrange\u001b[39m(\u001b[38;5;28mlen\u001b[39m(strs)\u001b[38;5;241m-\u001b[39m\u001b[38;5;241m1\u001b[39m):\n\u001b[0;32m      6\u001b[0m     \u001b[38;5;28;01mfor\u001b[39;00m j \u001b[38;5;129;01min\u001b[39;00m \u001b[38;5;28mrange\u001b[39m(i\u001b[38;5;241m+\u001b[39m\u001b[38;5;241m1\u001b[39m, \u001b[38;5;28mlen\u001b[39m(strs)):\n\u001b[1;32m----> 7\u001b[0m         \u001b[38;5;28;01mif\u001b[39;00m Counter(strs[i]) \u001b[38;5;241m==\u001b[39m \u001b[43mCounter\u001b[49m\u001b[43m(\u001b[49m\u001b[43mstrs\u001b[49m\u001b[43m[\u001b[49m\u001b[43mj\u001b[49m\u001b[43m]\u001b[49m\u001b[43m)\u001b[49m:\n\u001b[0;32m      8\u001b[0m             nueva\u001b[38;5;241m.\u001b[39mappend([strs[i],strs[j]])\n\u001b[0;32m     10\u001b[0m \u001b[38;5;28;01mreturn\u001b[39;00m strs\n",
      "File \u001b[1;32m~\\AppData\\Local\\anaconda3\\lib\\collections\\__init__.py:577\u001b[0m, in \u001b[0;36mCounter.__init__\u001b[1;34m(self, iterable, **kwds)\u001b[0m\n\u001b[0;32m    566\u001b[0m \u001b[38;5;124;03m'''Create a new, empty Counter object.  And if given, count elements\u001b[39;00m\n\u001b[0;32m    567\u001b[0m \u001b[38;5;124;03mfrom an input iterable.  Or, initialize the count from another mapping\u001b[39;00m\n\u001b[0;32m    568\u001b[0m \u001b[38;5;124;03mof elements to their counts.\u001b[39;00m\n\u001b[1;32m   (...)\u001b[0m\n\u001b[0;32m    574\u001b[0m \n\u001b[0;32m    575\u001b[0m \u001b[38;5;124;03m'''\u001b[39;00m\n\u001b[0;32m    576\u001b[0m \u001b[38;5;28msuper\u001b[39m()\u001b[38;5;241m.\u001b[39m\u001b[38;5;21m__init__\u001b[39m()\n\u001b[1;32m--> 577\u001b[0m \u001b[38;5;28mself\u001b[39m\u001b[38;5;241m.\u001b[39mupdate(iterable, \u001b[38;5;241m*\u001b[39m\u001b[38;5;241m*\u001b[39mkwds)\n",
      "File \u001b[1;32m~\\AppData\\Local\\anaconda3\\lib\\collections\\__init__.py:670\u001b[0m, in \u001b[0;36mCounter.update\u001b[1;34m(self, iterable, **kwds)\u001b[0m\n\u001b[0;32m    668\u001b[0m             \u001b[38;5;28msuper\u001b[39m()\u001b[38;5;241m.\u001b[39mupdate(iterable)\n\u001b[0;32m    669\u001b[0m     \u001b[38;5;28;01melse\u001b[39;00m:\n\u001b[1;32m--> 670\u001b[0m         \u001b[43m_count_elements\u001b[49m\u001b[43m(\u001b[49m\u001b[38;5;28;43mself\u001b[39;49m\u001b[43m,\u001b[49m\u001b[43m \u001b[49m\u001b[43miterable\u001b[49m\u001b[43m)\u001b[49m\n\u001b[0;32m    671\u001b[0m \u001b[38;5;28;01mif\u001b[39;00m kwds:\n\u001b[0;32m    672\u001b[0m     \u001b[38;5;28mself\u001b[39m\u001b[38;5;241m.\u001b[39mupdate(kwds)\n",
      "\u001b[1;31mTypeError\u001b[0m: 'int' object is not iterable"
     ]
    }
   ],
   "source": [
    "group(strs)"
   ]
  },
  {
   "cell_type": "code",
   "execution_count": 134,
   "id": "d5157a65",
   "metadata": {},
   "outputs": [
    {
     "name": "stdout",
     "output_type": "stream",
     "text": [
      "{}\n"
     ]
    }
   ],
   "source": [
    "print(ana)"
   ]
  },
  {
   "cell_type": "code",
   "execution_count": 163,
   "id": "0088c69a",
   "metadata": {},
   "outputs": [
    {
     "data": {
      "text/plain": [
       "['tan', 'nat', 'bat', 'ate', 'tea', 'eat', 'hola']"
      ]
     },
     "execution_count": 163,
     "metadata": {},
     "output_type": "execute_result"
    }
   ],
   "source": [
    "strs"
   ]
  },
  {
   "cell_type": "code",
   "execution_count": 162,
   "id": "50d213e7",
   "metadata": {},
   "outputs": [],
   "source": [
    "strs.append('hola')"
   ]
  },
  {
   "cell_type": "code",
   "execution_count": 193,
   "id": "7a19a623",
   "metadata": {},
   "outputs": [],
   "source": [
    "lista = [\"hola\", \"que\", \"donde\"]"
   ]
  },
  {
   "cell_type": "code",
   "execution_count": 198,
   "id": "a9e6ab13",
   "metadata": {},
   "outputs": [
    {
     "ename": "AttributeError",
     "evalue": "'str' object has no attribute 'insert'",
     "output_type": "error",
     "traceback": [
      "\u001b[1;31m---------------------------------------------------------------------------\u001b[0m",
      "\u001b[1;31mAttributeError\u001b[0m                            Traceback (most recent call last)",
      "Cell \u001b[1;32mIn[198], line 1\u001b[0m\n\u001b[1;32m----> 1\u001b[0m \u001b[43mlista\u001b[49m\u001b[43m[\u001b[49m\u001b[38;5;241;43m0\u001b[39;49m\u001b[43m]\u001b[49m\u001b[38;5;241;43m.\u001b[39;49m\u001b[43minsert\u001b[49m(\u001b[38;5;241m0\u001b[39m, \u001b[38;5;124m\"\u001b[39m\u001b[38;5;124mhabla\u001b[39m\u001b[38;5;124m\"\u001b[39m)\n",
      "\u001b[1;31mAttributeError\u001b[0m: 'str' object has no attribute 'insert'"
     ]
    }
   ],
   "source": [
    "lista[0].list(0, \"habla\")"
   ]
  },
  {
   "cell_type": "code",
   "execution_count": 197,
   "id": "dfd0e630",
   "metadata": {},
   "outputs": [
    {
     "name": "stdout",
     "output_type": "stream",
     "text": [
      "['papichulo', 'hola', 'que', 'donde']\n"
     ]
    }
   ],
   "source": [
    "print(lista)"
   ]
  },
  {
   "cell_type": "code",
   "execution_count": 7,
   "id": "85d870c9",
   "metadata": {},
   "outputs": [
    {
     "ename": "SyntaxError",
     "evalue": "unterminated string literal (detected at line 1) (3096797001.py, line 1)",
     "output_type": "error",
     "traceback": [
      "\u001b[1;36m  Cell \u001b[1;32mIn[7], line 1\u001b[1;36m\u001b[0m\n\u001b[1;33m    s = 'c:\\Users\\rdesantis\\Documents\\jupyterLab\\'\u001b[0m\n\u001b[1;37m        ^\u001b[0m\n\u001b[1;31mSyntaxError\u001b[0m\u001b[1;31m:\u001b[0m unterminated string literal (detected at line 1)\n"
     ]
    }
   ],
   "source": [
    "s = 'c:\\Users\\rdesantis\\Documents\\jupyterLab\\'\n",
    "c.replace(\"\\\", \"\"/\")"
   ]
  },
  {
   "cell_type": "code",
   "execution_count": 9,
   "id": "4e27ece1",
   "metadata": {},
   "outputs": [
    {
     "ename": "SyntaxError",
     "evalue": "invalid syntax (2685080318.py, line 1)",
     "output_type": "error",
     "traceback": [
      "\u001b[1;36m  Cell \u001b[1;32mIn[9], line 1\u001b[1;36m\u001b[0m\n\u001b[1;33m    otro comi mas\u001b[0m\n\u001b[1;37m         ^\u001b[0m\n\u001b[1;31mSyntaxError\u001b[0m\u001b[1;31m:\u001b[0m invalid syntax\n"
     ]
    }
   ],
   "source": [
    "ultimo cambio de nombre"
   ]
  },
  {
   "cell_type": "code",
   "execution_count": null,
   "id": "c93df0cf",
   "metadata": {},
   "outputs": [],
   "source": []
  }
 ],
 "metadata": {
  "kernelspec": {
   "display_name": "Python 3 (ipykernel)",
   "language": "python",
   "name": "python3"
  },
  "language_info": {
   "codemirror_mode": {
    "name": "ipython",
    "version": 3
   },
   "file_extension": ".py",
   "mimetype": "text/x-python",
   "name": "python",
   "nbconvert_exporter": "python",
   "pygments_lexer": "ipython3",
   "version": "3.10.9"
  }
 },
 "nbformat": 4,
 "nbformat_minor": 5
}
