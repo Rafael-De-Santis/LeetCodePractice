{
 "cells": [
  {
   "cell_type": "markdown",
   "metadata": {},
   "source": [
    "## 22. Generate Parentheses<br>\n",
    "Solved<br>\n",
    "Medium<br>\n",
    "Topics<br>\n",
    "Companies<br>\n",
    "Given n pairs of parentheses, write a function to generate all combinations of well-formed parentheses.<br>\n",
    "\n",
    " \n",
    "\n",
    "Example 1:<br>\n",
    "Input: n = 3<br>\n",
    "Output: [\"((()))\",\"(()())\",\"(())()\",\"()(())\",\"()()()\"]<br>\n",
    "Example 2:<br>\n",
    "\n",
    "Input: n = 1<br>\n",
    "Output: [\"()\"]<br>\n",
    " \n",
    "\n",
    "Constraints:<br>\n",
    "\n",
    "1 <= n <= 8<br>"
   ]
  },
  {
   "cell_type": "code",
   "execution_count": null,
   "metadata": {},
   "outputs": [],
   "source": [
    "class Solution:\n",
    "    def generateParenthesis(self, n: int) -> List[str]:\n",
    "        \n",
    "        stack = []\n",
    "        res = []\n",
    "\n",
    "\n",
    "        def validCombination(openN, closedN):\n",
    "\n",
    "            if openN == closedN == n:\n",
    "                \n",
    "                res.append(\"\".join(stack))\n",
    "                return\n",
    "\n",
    "            if openN < n:\n",
    "                \n",
    "                stack.append(\"(\")\n",
    "                validCombination(openN + 1, closedN)\n",
    "                stack.pop()\n",
    "\n",
    "            if closedN < openN:\n",
    "\n",
    "                stack.append(\")\")\n",
    "                validCombination(openN, closedN + 1)\n",
    "                stack.pop()\n",
    "\n",
    "        validCombination(0, 0)\n",
    "        return res"
   ]
  }
 ],
 "metadata": {
  "kernelspec": {
   "display_name": "Python 3",
   "language": "python",
   "name": "python3"
  },
  "language_info": {
   "codemirror_mode": {
    "name": "ipython",
    "version": 3
   },
   "file_extension": ".py",
   "mimetype": "text/x-python",
   "name": "python",
   "nbconvert_exporter": "python",
   "pygments_lexer": "ipython3",
   "version": "3.11.4"
  }
 },
 "nbformat": 4,
 "nbformat_minor": 2
}
