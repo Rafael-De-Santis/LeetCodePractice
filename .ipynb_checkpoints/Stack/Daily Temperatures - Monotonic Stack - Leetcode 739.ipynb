{
 "cells": [
  {
   "cell_type": "markdown",
   "metadata": {},
   "source": [
    "## Leetcode 739 - Daily Temperatures - Monotonic Stack\n",
    "739. Daily Temperatures<br>\n",
    "Attempted<br>\n",
    "Medium<br>\n",
    "Topics<br>\n",
    "Companies<br>\n",
    "Hint<br>\n",
    "Given an array of integers temperatures represents the daily temperatures, return an array answer such that answer[i] is the number of days you have to wait after the ith day to get a warmer temperature.<br> \n",
    "If there is no future day for which this is possible, keep <br>answer[i] == 0 instead.<br>\n",
    "\n",
    " \n",
    "\n",
    "Example 1:<br>\n",
    "\n",
    "Input: temperatures = [73,74,75,71,69,72,76,73]<br>\n",
    "Output: [1,1,4,2,1,1,0,0]<br>\n",
    "Example 2:<br>\n",
    "\n",
    "Input: temperatures = [30,40,50,60]<br>\n",
    "Output: [1,1,1,0]<br>\n",
    "Example 3:<br>\n",
    "\n",
    "Input: temperatures = [30,60,90]<br>\n",
    "Output: [1,1,0]<br>\n",
    " \n",
    "\n",
    "Constraints:<br>\n",
    "\n",
    "1 <= temperatures.length <= 105<br>\n",
    "30 <= temperatures[i] <= 100<br>"
   ]
  },
  {
   "cell_type": "markdown",
   "metadata": {},
   "source": []
  },
  {
   "cell_type": "code",
   "execution_count": null,
   "metadata": {},
   "outputs": [],
   "source": [
    "class Solution:\n",
    "    def dailyTemperatures(self, temperatures: List[int]) -> List[int]:\n",
    "        \n",
    "        res = [0] * len(temperatures)            # first we create our array with a 0 in each positions, it will be the same lenght as temperatures (we are going to need those 0 inside, that way the array won't be empty) Why do we need a non empty array?, keep reading....\n",
    "        stack = []                               # here we are going to store the values, and then pop them from this same stack, storing the result in res.\n",
    "\n",
    "        for i, v in enumerate(temperatures):     # we loop creating an index\n",
    "\n",
    "            while stack and v > stack[-1][0]:    # this is why we need a NON EMPTY ARRAY, because the condition we used: \"while stack\" = this means if the stack IS NOT EMPTY, and it will never be, because we already filled our res with 0sss\n",
    "                                                 # second condition if out value/temperature is greater than the top of our stack, and if it is, that is the index and value we are going to pop()\n",
    "\n",
    "                stackT, stackInd = stack.pop()   # if condition met, we pop those i, v from the stack\n",
    "\n",
    "                res[stackInd] = (i - stackInd)   # here we ASSIGN the current index we just pop(), which will be the same as the position we want to append\n",
    "                                                 # and then we substrack the current LOOP INDEX (i) mines the index of the value we just pop()\n",
    "\n",
    "\n",
    "            \n",
    "            stack.append([v, i])                 # when there's nothing left, we append or current i, v, but look, we are storing the values [v, i] in our STACK, and from there we compare with the loops, and then assign to res the right values.\n",
    "\n",
    "        return res                               # when the loops finish, we can return just res, which will be the same size and every index will match the given array (temperatures)\n",
    "\n"
   ]
  },
  {
   "cell_type": "code",
   "execution_count": null,
   "metadata": {},
   "outputs": [],
   "source": [
    "stack = []\n",
    "res = [0] * len(temperatures)\n",
    "\n",
    "        \n",
    "for i in range(len(temperatures)):\n",
    "\n",
    "    for j in temperatures[i+1:]:\n",
    "        \n",
    "        days = 0\n",
    "\n",
    "        if i > j:\n",
    "\n",
    "            days += 1\n",
    "            res.append(days)\n",
    "            days = 0\n",
    "            break\n",
    "        \n",
    "        elif i < j:\n",
    "\n",
    "            days += 1\n",
    "\n",
    "            res.append(days)\n",
    "\n",
    "            days = 0\n",
    "            break\n",
    "\n",
    "        else:\n",
    "            res.append(0)\n",
    "            continue\n",
    "    \n",
    "return res\n",
    "\n",
    "                    "
   ]
  }
 ],
 "metadata": {
  "kernelspec": {
   "display_name": "Python 3",
   "language": "python",
   "name": "python3"
  },
  "language_info": {
   "name": "python",
   "version": "3.11.4"
  }
 },
 "nbformat": 4,
 "nbformat_minor": 2
}
