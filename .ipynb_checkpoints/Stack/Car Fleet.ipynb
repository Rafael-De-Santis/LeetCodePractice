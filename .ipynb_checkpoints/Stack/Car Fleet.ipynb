{
 "cells": [
  {
   "cell_type": "markdown",
   "metadata": {},
   "source": [
    "## 853. Car Fleet\n",
    "There are n cars going to the same destination along a one-lane road. The destination is target miles away.<br>\n",
    "\n",
    "You are given two integer array position and speed, both of length n, where position[i] is the position of the ith car and speed[i] is the speed of the ith car (in miles per<br> hour).\n",
    "\n",
    "A car can never pass another car ahead of it, but it can catch up to it and drive bumper to bumper at the same speed. The faster car will slow down to match the slower car's<br> speed. The distance between these two cars is ignored (i.e., they are assumed to have the same position).<br>\n",
    "\n",
    "A car fleet is some non-empty set of cars driving at the same position and same speed. Note that a single car is also a car fleet.<br>\n",
    "\n",
    "If a car catches up to a car fleet right at the destination point, it will still be considered as one car fleet.<br>\n",
    "\n",
    "Return the number of car fleets that will arrive at the destination.<br>\n",
    "\n",
    " \n",
    "\n",
    "Example 1:\n",
    "\n",
    "Input: target = 12, position = [10,8,0,5,3], speed = [2,4,1,1,3]<br>\n",
    "Output: 3\n",
    "Explanation:\n",
    "The cars starting at 10 (speed 2) and 8 (speed 4) become a fleet, meeting each other at 12.<br>\n",
    "The car starting at 0 does not catch up to any other car, so it is a fleet by itself.<br>\n",
    "The cars starting at 5 (speed 1) and 3 (speed 3) become a fleet, meeting each other at 6. The fleet moves at speed 1 until it reaches target.<br>\n",
    "Note that no other cars meet these fleets before the destination, so the answer is 3.<br>\n",
    "Example 2:\n",
    "\n",
    "Input: target = 10, position = [3], speed = [3]\n",
    "Output: 1\n",
    "Explanation: There is only one car, hence there is only one fleet.<br>\n",
    "Example 3:\n",
    "\n",
    "Input: target = 100, position = [0,2,4], speed = [4,2,1]<br>\n",
    "Output: 1\n",
    "Explanation:\n",
    "The cars starting at 0 (speed 4) and 2 (speed 2) become a fleet, meeting each other at 4. The fleet moves at speed 2.<br>\n",
    "Then, the fleet (speed 2) and the car starting at 4 (speed 1) become one fleet, meeting each other at 6. The fleet moves at speed 1 until it reaches target.<br>\n",
    " \n",
    "\n",
    "Constraints:<br>\n",
    "\n",
    "n == position.length == speed.length<br>\n",
    "1 <= n <= 105<br>\n",
    "0 < target <= 106<br>\n",
    "0 <= position[i] < target<br>\n",
    "All the values of position are unique.<br>\n",
    "0 < speed[i] <= 106<br>"
   ]
  },
  {
   "cell_type": "code",
   "execution_count": 2,
   "metadata": {},
   "outputs": [
    {
     "data": {
      "text/plain": [
       "3"
      ]
     },
     "execution_count": 2,
     "metadata": {},
     "output_type": "execute_result"
    }
   ],
   "source": [
    "class Solution:\n",
    "\n",
    "    def carFleet(target, position, speed):\n",
    "\n",
    "        stack = []\n",
    "        array = [(pos,spd) for pos, spd in zip(position, speed)]\n",
    "\n",
    "\n",
    "        for i in sorted(array)[::-1]:\n",
    "                \n",
    "                arrival = (target - i[0]) / i[1]\n",
    "\n",
    "                stack.append(arrival)\n",
    "\n",
    "                if len(stack) >= 2 and stack[-1] <= stack[-2]:\n",
    "\n",
    "                        stack.pop()             \n",
    "\n",
    "        return len(stack)\n",
    "\n",
    "Solution.carFleet(12,[10,8,0,5,3],[2,4,1,1,3])"
   ]
  },
  {
   "cell_type": "code",
   "execution_count": null,
   "metadata": {},
   "outputs": [],
   "source": []
  },
  {
   "cell_type": "markdown",
   "metadata": {},
   "source": []
  }
 ],
 "metadata": {
  "kernelspec": {
   "display_name": "Python 3",
   "language": "python",
   "name": "python3"
  },
  "language_info": {
   "codemirror_mode": {
    "name": "ipython",
    "version": 3
   },
   "file_extension": ".py",
   "mimetype": "text/x-python",
   "name": "python",
   "nbconvert_exporter": "python",
   "pygments_lexer": "ipython3",
   "version": "3.11.4"
  }
 },
 "nbformat": 4,
 "nbformat_minor": 2
}
